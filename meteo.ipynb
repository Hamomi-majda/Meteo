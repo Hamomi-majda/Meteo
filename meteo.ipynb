{
  "cells": [
    {
      "cell_type": "markdown",
      "metadata": {},
      "source": [
        "import numpy as np\n",
        "\n",
        "import requests\n",
        "import datetime\n",
        "from dateutil.relativedelta import relativedelta\n",
        "\n",
        "# initialisation des dates de debut et fin d'extraction de données\n",
        "date_debut = datetime.datetime.now() - relativedelta(days=2)\n",
        "date_fin = date_debut + relativedelta(days=6)\n",
        "# formatage des dates pour importer le bon URL\n",
        "date_debut_formattee = date_debut.strftime('%Y-%m-%d') \n",
        "date_fin_formattee = date_fin.strftime('%Y-%m-%d')  \n",
        "\n",
        "# copie de l'URL du site open-meteo avec les differents critères qui nous interessent\n",
        "url = f\"https://api.open-meteo.com/v1/meteofrance?latitude=43.6109&longitude=3.8763&hourly=temperature_2m,weathercode,precipitation&daily=weathercode,temperature_2m_max,temperature_2m_min,wind_speed_10m_max,precipitation_sum&timezone=Europe%2FLondon&start_date={date_debut_formattee}&end_date={date_fin_formattee}\"\n",
        "\n",
        "# récuperation des données\n",
        "response = requests.get(url)\n",
        "data = response.json()\n",
        "\n",
        "# initialisation des tableaux de données\n",
        "temp = data[\"hourly\"][\"temperature_2m\"]\n",
        "precipitation = data[\"daily\"][\"precipitation_sum\"]\n",
        "precipitation_h = data[\"hourly\"][\"precipitation\"]\n",
        "wind = data[\"daily\"][\"wind_speed_10m_max\"]\n",
        "tempmin = data[\"daily\"][\"temperature_2m_min\"]\n",
        "tempmax = data[\"daily\"][\"temperature_2m_max\"]\n",
        "icon = data[\"daily\"][\"weathercode\"]\n",
        "\n",
        "def date(i):\n",
        "    \n",
        "    d = datetime.datetime.now() + relativedelta(days=i)\n",
        "    return f\"{d.day}-{d.month}-{d.year}\"\n",
        "\n",
        "def index(i):\n",
        "    \n",
        "    jours_semaine = [\"Monday\", \"Tuesday\", \"Wednesday\", \"Thursday\", \"Friday\", \"Saturday\", \"Sunday\"]\n",
        "    return jours_semaine[(datetime.datetime.now().weekday() + i) % 7]   "
      ],
      "id": "52c50f24"
    }
  ],
  "metadata": {
    "kernelspec": {
      "name": "python3",
      "language": "python",
      "display_name": "Python 3 (ipykernel)"
    }
  },
  "nbformat": 4,
  "nbformat_minor": 5
}